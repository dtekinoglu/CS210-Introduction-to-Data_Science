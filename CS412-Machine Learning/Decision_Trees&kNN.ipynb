{
  "nbformat": 4,
  "nbformat_minor": 0,
  "metadata": {
    "colab": {
      "name": "ML202102_HW1.ipynb adlı not defterinin kopyası",
      "provenance": [],
      "collapsed_sections": []
    },
    "kernelspec": {
      "name": "python3",
      "display_name": "Python 3"
    }
  },
  "cells": [
    {
      "cell_type": "markdown",
      "metadata": {
        "id": "zrzkxpZrCF6D"
      },
      "source": [
        "# CS 412 Machine Learning 2020 \n",
        "\n",
        "# Assignment 1\n",
        "\n",
        "100 pts\n",
        "\n",
        "## Goal \n",
        "\n",
        "The goal of this assignment \n",
        "\n",
        "*  Introduction to the machine learning experimental set up\n",
        "*  Gain experience with the Scikit library\n",
        "*  Gain experience with Decision tree and k-NN models\n",
        "\n",
        "## Dataset\n",
        "\n",
        "**Wine Quality Dataset** is a collection red and white wines with 12 attributes. The target variable is the 'quality' either 0 or 1\n",
        "\n",
        "\n",
        "## Task\n",
        "Build a decision tree and k-NN classifiers with the scikit-learn library function calls to **classify** the quality of wine as good (1) and bad (0)\n",
        "\n",
        "## Submission\n",
        "\n",
        "Follow the instructions at the end."
      ]
    },
    {
      "cell_type": "markdown",
      "metadata": {
        "id": "18kyKgy9LiZx"
      },
      "source": [
        "# 1) Initialize\n",
        "\n",
        "First, make a copy of this notebook in your drive"
      ]
    },
    {
      "cell_type": "code",
      "metadata": {
        "id": "eTJUORO9CBNq",
        "colab": {
          "base_uri": "https://localhost:8080/"
        },
        "outputId": "06d1e163-6e23-457f-89a3-591710728a54"
      },
      "source": [
        "# Mount to your drive, in this way you can reach files that are in your drive\n",
        "# Run this cell\n",
        "\n",
        "from google.colab import drive\n",
        "drive.mount('/content/drive')"
      ],
      "execution_count": null,
      "outputs": [
        {
          "output_type": "stream",
          "text": [
            "Mounted at /content/drive\n"
          ],
          "name": "stdout"
        }
      ]
    },
    {
      "cell_type": "markdown",
      "metadata": {
        "id": "FtputkpVLt8H"
      },
      "source": [
        "# 2) Load Dataset\n",
        "To start working for your homework, take a copy of the folder, given in the below link to your own google drive. You find the train and test data under this folder.\n",
        "\n",
        "https://drive.google.com/drive/folders/1PC6M332CTdW-OOrgJ-1GU1F3UaRupka8?usp=sharing\n",
        "\n",
        "After copy the folder, copy the path of the train and test dataset to paste them in the below cell to load your data."
      ]
    },
    {
      "cell_type": "code",
      "metadata": {
        "id": "gB1Fur5APIjQ"
      },
      "source": [
        "import pandas as pd\n",
        "import numpy as np\n",
        "\n",
        "train_df = pd.read_csv('/content/drive/My Drive/Colab Notebooks/traindata/winequality-train.csv')\n",
        "test_df = pd.read_csv('/content/drive/My Drive/Colab Notebooks/testdata/winequality-test.csv')\n",
        "\n"
      ],
      "execution_count": null,
      "outputs": []
    },
    {
      "cell_type": "markdown",
      "metadata": {
        "id": "Rtcu1QMXMLBN"
      },
      "source": [
        "# 3) Understand the dataset\n",
        "\n",
        "You can use the fuctions that we saw in the recitations to understand the dataset"
      ]
    },
    {
      "cell_type": "code",
      "metadata": {
        "id": "KjQj6XQNMd68",
        "colab": {
          "base_uri": "https://localhost:8080/",
          "height": 255
        },
        "outputId": "abe0b75f-6db0-43ea-a849-71b2dc2bacd3"
      },
      "source": [
        "# print shape of the train and test sets\n",
        "\n",
        "print(\"Shape of train set: \", train_df.shape)\n",
        "print(\"Shape of test set: \", test_df.shape)\n",
        "\n",
        "\n",
        "\n",
        "# show random samples from the training data\n",
        "train_df.sample(5)"
      ],
      "execution_count": null,
      "outputs": [
        {
          "output_type": "stream",
          "text": [
            "Shape of train set:  (5198, 13)\n",
            "Shape of test set:  (1299, 13)\n"
          ],
          "name": "stdout"
        },
        {
          "output_type": "execute_result",
          "data": {
            "text/html": [
              "<div>\n",
              "<style scoped>\n",
              "    .dataframe tbody tr th:only-of-type {\n",
              "        vertical-align: middle;\n",
              "    }\n",
              "\n",
              "    .dataframe tbody tr th {\n",
              "        vertical-align: top;\n",
              "    }\n",
              "\n",
              "    .dataframe thead th {\n",
              "        text-align: right;\n",
              "    }\n",
              "</style>\n",
              "<table border=\"1\" class=\"dataframe\">\n",
              "  <thead>\n",
              "    <tr style=\"text-align: right;\">\n",
              "      <th></th>\n",
              "      <th>fixed acidity</th>\n",
              "      <th>volatile acidity</th>\n",
              "      <th>citric acid</th>\n",
              "      <th>residual sugar</th>\n",
              "      <th>chlorides</th>\n",
              "      <th>free sulfur dioxide</th>\n",
              "      <th>total sulfur dioxide</th>\n",
              "      <th>density</th>\n",
              "      <th>pH</th>\n",
              "      <th>sulphates</th>\n",
              "      <th>alcohol</th>\n",
              "      <th>wine type</th>\n",
              "      <th>quality</th>\n",
              "    </tr>\n",
              "  </thead>\n",
              "  <tbody>\n",
              "    <tr>\n",
              "      <th>4548</th>\n",
              "      <td>7.0</td>\n",
              "      <td>0.31</td>\n",
              "      <td>0.31</td>\n",
              "      <td>9.1</td>\n",
              "      <td>0.036</td>\n",
              "      <td>45.0</td>\n",
              "      <td>140.0</td>\n",
              "      <td>0.99216</td>\n",
              "      <td>2.98</td>\n",
              "      <td>0.31</td>\n",
              "      <td>12.0</td>\n",
              "      <td>0</td>\n",
              "      <td>1</td>\n",
              "    </tr>\n",
              "    <tr>\n",
              "      <th>2153</th>\n",
              "      <td>8.7</td>\n",
              "      <td>0.54</td>\n",
              "      <td>0.26</td>\n",
              "      <td>2.5</td>\n",
              "      <td>0.097</td>\n",
              "      <td>7.0</td>\n",
              "      <td>31.0</td>\n",
              "      <td>0.99760</td>\n",
              "      <td>3.27</td>\n",
              "      <td>0.60</td>\n",
              "      <td>9.3</td>\n",
              "      <td>1</td>\n",
              "      <td>0</td>\n",
              "    </tr>\n",
              "    <tr>\n",
              "      <th>5086</th>\n",
              "      <td>7.0</td>\n",
              "      <td>0.22</td>\n",
              "      <td>0.24</td>\n",
              "      <td>11.0</td>\n",
              "      <td>0.044</td>\n",
              "      <td>75.0</td>\n",
              "      <td>167.0</td>\n",
              "      <td>0.99508</td>\n",
              "      <td>2.98</td>\n",
              "      <td>0.56</td>\n",
              "      <td>10.5</td>\n",
              "      <td>0</td>\n",
              "      <td>0</td>\n",
              "    </tr>\n",
              "    <tr>\n",
              "      <th>3207</th>\n",
              "      <td>7.6</td>\n",
              "      <td>0.36</td>\n",
              "      <td>0.48</td>\n",
              "      <td>13.5</td>\n",
              "      <td>0.038</td>\n",
              "      <td>44.0</td>\n",
              "      <td>116.0</td>\n",
              "      <td>0.99820</td>\n",
              "      <td>3.04</td>\n",
              "      <td>0.48</td>\n",
              "      <td>9.2</td>\n",
              "      <td>0</td>\n",
              "      <td>0</td>\n",
              "    </tr>\n",
              "    <tr>\n",
              "      <th>1075</th>\n",
              "      <td>8.5</td>\n",
              "      <td>0.16</td>\n",
              "      <td>0.33</td>\n",
              "      <td>1.0</td>\n",
              "      <td>0.076</td>\n",
              "      <td>17.0</td>\n",
              "      <td>57.0</td>\n",
              "      <td>0.99210</td>\n",
              "      <td>3.14</td>\n",
              "      <td>0.46</td>\n",
              "      <td>10.6</td>\n",
              "      <td>0</td>\n",
              "      <td>0</td>\n",
              "    </tr>\n",
              "  </tbody>\n",
              "</table>\n",
              "</div>"
            ],
            "text/plain": [
              "      fixed acidity  volatile acidity  citric acid  ...  alcohol  wine type  quality\n",
              "4548            7.0              0.31         0.31  ...     12.0          0        1\n",
              "2153            8.7              0.54         0.26  ...      9.3          1        0\n",
              "5086            7.0              0.22         0.24  ...     10.5          0        0\n",
              "3207            7.6              0.36         0.48  ...      9.2          0        0\n",
              "1075            8.5              0.16         0.33  ...     10.6          0        0\n",
              "\n",
              "[5 rows x 13 columns]"
            ]
          },
          "metadata": {
            "tags": []
          },
          "execution_count": 3
        }
      ]
    },
    {
      "cell_type": "code",
      "metadata": {
        "id": "5B93dybOMqBF",
        "colab": {
          "base_uri": "https://localhost:8080/"
        },
        "outputId": "947c625d-2d78-431f-f80f-6b79eda0ca14"
      },
      "source": [
        "# print information about the datasets (Is there any missing value? or Categorical feature?)\n",
        "train_df.info()\n",
        "print(\"\\n\")\n",
        "print(\"Any missing values: \", train_df.isnull().values.any())\n",
        "\n",
        "train_df.select_dtypes(include=['category']).columns"
      ],
      "execution_count": null,
      "outputs": [
        {
          "output_type": "stream",
          "text": [
            "<class 'pandas.core.frame.DataFrame'>\n",
            "RangeIndex: 5198 entries, 0 to 5197\n",
            "Data columns (total 12 columns):\n",
            " #   Column                Non-Null Count  Dtype  \n",
            "---  ------                --------------  -----  \n",
            " 0   fixed acidity         5198 non-null   float64\n",
            " 1   volatile acidity      5198 non-null   float64\n",
            " 2   citric acid           5198 non-null   float64\n",
            " 3   residual sugar        5198 non-null   float64\n",
            " 4   chlorides             5198 non-null   float64\n",
            " 5   free sulfur dioxide   5198 non-null   float64\n",
            " 6   total sulfur dioxide  5198 non-null   float64\n",
            " 7   density               5198 non-null   float64\n",
            " 8   pH                    5198 non-null   float64\n",
            " 9   sulphates             5198 non-null   float64\n",
            " 10  alcohol               5198 non-null   float64\n",
            " 11  wine type             5198 non-null   int64  \n",
            "dtypes: float64(11), int64(1)\n",
            "memory usage: 487.4 KB\n",
            "\n",
            "\n",
            "Any missing values:  False\n"
          ],
          "name": "stdout"
        },
        {
          "output_type": "execute_result",
          "data": {
            "text/plain": [
              "Index([], dtype='object')"
            ]
          },
          "metadata": {
            "tags": []
          },
          "execution_count": 13
        }
      ]
    },
    {
      "cell_type": "markdown",
      "metadata": {
        "id": "PAFQHAq8Mno1"
      },
      "source": [
        "# 4) Define train and test labels"
      ]
    },
    {
      "cell_type": "code",
      "metadata": {
        "id": "JjW1ZNhONNCb"
      },
      "source": [
        "# make sure you remove the labels from datasets\n",
        "\n",
        "train_labels = train_df.pop('quality')\n",
        "print(train_labels)\n",
        "test_labels = test_df.pop('quality')"
      ],
      "execution_count": null,
      "outputs": []
    },
    {
      "cell_type": "markdown",
      "metadata": {
        "id": "4fn3N4V_OlL_"
      },
      "source": [
        "# 5) FineTune Decision Tree hyper-parameters\n",
        "\n",
        "1-Splitting dataset into train and validation"
      ]
    },
    {
      "cell_type": "code",
      "metadata": {
        "id": "hJlxVMTnYTTg"
      },
      "source": [
        "# Split training data to 70% training and 30% validation, do not forget to use the random_state parameter\n",
        "from sklearn.model_selection import train_test_split\n",
        "x_train, x_val, y_train, y_val = train_test_split(train_df, train_labels, test_size=0.3, random_state=4000)"
      ],
      "execution_count": null,
      "outputs": []
    },
    {
      "cell_type": "markdown",
      "metadata": {
        "id": "NNm9SC9JYXN2"
      },
      "source": [
        "2- FineTune minimum sample split"
      ]
    },
    {
      "cell_type": "code",
      "metadata": {
        "id": "UfTLLotIO3WX",
        "colab": {
          "base_uri": "https://localhost:8080/"
        },
        "outputId": "33d89204-f2cb-45fa-8fd4-f50e025ef269"
      },
      "source": [
        "from sklearn.tree import DecisionTreeClassifier\n",
        "min_samples_splits = range(2, 50)\n",
        "train_results = []\n",
        "val_results = []\n",
        "for min_samples_split in min_samples_splits:\n",
        "  clf = DecisionTreeClassifier(criterion='entropy', random_state=2021,min_samples_split = min_samples_split)\n",
        "  clf.fit(x_train,y_train)\n",
        "  \n",
        "  # Evaluate on Training set\n",
        "  train_acc = clf.score(x_train, y_train)\n",
        "  print(\"Accuracy on training set\", train_acc)\n",
        "  train_results.append(train_acc)\n",
        "   \n",
        "  # Evaluate on Validation set\n",
        "  val_acc = clf.score(x_val,y_val)\n",
        "  print(\"Accuracy on validation set\", val_acc)\n",
        "  val_results.append(val_acc)"
      ],
      "execution_count": null,
      "outputs": [
        {
          "output_type": "stream",
          "text": [
            "Accuracy on training set 1.0\n",
            "Accuracy on validation set 0.8378205128205128\n",
            "Accuracy on training set 0.9972512369433755\n",
            "Accuracy on validation set 0.8358974358974359\n",
            "Accuracy on training set 0.9928532160527762\n",
            "Accuracy on validation set 0.8378205128205128\n",
            "Accuracy on training set 0.9870808136338648\n",
            "Accuracy on validation set 0.842948717948718\n",
            "Accuracy on training set 0.9802089059923035\n",
            "Accuracy on validation set 0.8365384615384616\n",
            "Accuracy on training set 0.9730621220450797\n",
            "Accuracy on validation set 0.8288461538461539\n",
            "Accuracy on training set 0.9716877405167674\n",
            "Accuracy on validation set 0.8301282051282052\n",
            "Accuracy on training set 0.9648158328752061\n",
            "Accuracy on validation set 0.8192307692307692\n",
            "Accuracy on training set 0.9557449147883452\n",
            "Accuracy on validation set 0.816025641025641\n",
            "Accuracy on training set 0.9540956569543705\n",
            "Accuracy on validation set 0.8224358974358974\n",
            "Accuracy on training set 0.9455744914788345\n",
            "Accuracy on validation set 0.8217948717948718\n",
            "Accuracy on training set 0.940351841671248\n",
            "Accuracy on validation set 0.8217948717948718\n",
            "Accuracy on training set 0.9362286970863112\n",
            "Accuracy on validation set 0.816025641025641\n",
            "Accuracy on training set 0.9301814183617372\n",
            "Accuracy on validation set 0.8102564102564103\n",
            "Accuracy on training set 0.9312809235843871\n",
            "Accuracy on validation set 0.8076923076923077\n",
            "Accuracy on training set 0.9263331500824629\n",
            "Accuracy on validation set 0.808974358974359\n",
            "Accuracy on training set 0.9249587685541506\n",
            "Accuracy on validation set 0.8057692307692308\n",
            "Accuracy on training set 0.9241341396371633\n",
            "Accuracy on validation set 0.8044871794871795\n",
            "Accuracy on training set 0.9213853765805388\n",
            "Accuracy on validation set 0.8076923076923077\n",
            "Accuracy on training set 0.9191863661352392\n",
            "Accuracy on validation set 0.8038461538461539\n",
            "Accuracy on training set 0.9175371083012644\n",
            "Accuracy on validation set 0.808974358974359\n",
            "Accuracy on training set 0.914238592633315\n",
            "Accuracy on validation set 0.8006410256410257\n",
            "Accuracy on training set 0.9098405717427158\n",
            "Accuracy on validation set 0.7980769230769231\n",
            "Accuracy on training set 0.9101154480483782\n",
            "Accuracy on validation set 0.8\n",
            "Accuracy on training set 0.9068169323804288\n",
            "Accuracy on validation set 0.7987179487179488\n",
            "Accuracy on training set 0.9070918086860913\n",
            "Accuracy on validation set 0.8044871794871795\n",
            "Accuracy on training set 0.903243540406817\n",
            "Accuracy on validation set 0.8032051282051282\n",
            "Accuracy on training set 0.9051676745464541\n",
            "Accuracy on validation set 0.801923076923077\n",
            "Accuracy on training set 0.9015942825728422\n",
            "Accuracy on validation set 0.8057692307692308\n",
            "Accuracy on training set 0.8974711379879055\n",
            "Accuracy on validation set 0.8025641025641026\n",
            "Accuracy on training set 0.8988455195162177\n",
            "Accuracy on validation set 0.8051282051282052\n",
            "Accuracy on training set 0.8988455195162177\n",
            "Accuracy on validation set 0.8051282051282052\n",
            "Accuracy on training set 0.8963716327652557\n",
            "Accuracy on validation set 0.8044871794871795\n",
            "Accuracy on training set 0.8949972512369434\n",
            "Accuracy on validation set 0.8006410256410257\n",
            "Accuracy on training set 0.8947223749312809\n",
            "Accuracy on validation set 0.8051282051282052\n",
            "Accuracy on training set 0.8914238592633315\n",
            "Accuracy on validation set 0.8006410256410257\n",
            "Accuracy on training set 0.8919736118746564\n",
            "Accuracy on validation set 0.8044871794871795\n",
            "Accuracy on training set 0.8903243540406817\n",
            "Accuracy on validation set 0.808974358974359\n",
            "Accuracy on training set 0.8889499725123694\n",
            "Accuracy on validation set 0.808974358974359\n",
            "Accuracy on training set 0.8867509620670698\n",
            "Accuracy on validation set 0.8057692307692308\n",
            "Accuracy on training set 0.8864760857614074\n",
            "Accuracy on validation set 0.8032051282051282\n",
            "Accuracy on training set 0.8848268279274326\n",
            "Accuracy on validation set 0.8064102564102564\n",
            "Accuracy on training set 0.8840021990104453\n",
            "Accuracy on validation set 0.808974358974359\n",
            "Accuracy on training set 0.8853765805387576\n",
            "Accuracy on validation set 0.8096153846153846\n",
            "Accuracy on training set 0.8845519516217702\n",
            "Accuracy on validation set 0.8115384615384615\n",
            "Accuracy on training set 0.883177570093458\n",
            "Accuracy on validation set 0.8115384615384615\n",
            "Accuracy on training set 0.8793293018141837\n",
            "Accuracy on validation set 0.8115384615384615\n",
            "Accuracy on training set 0.8774051676745465\n",
            "Accuracy on validation set 0.8102564102564103\n"
          ],
          "name": "stdout"
        }
      ]
    },
    {
      "cell_type": "code",
      "metadata": {
        "id": "_jqCo52hPjkk",
        "colab": {
          "base_uri": "https://localhost:8080/",
          "height": 265
        },
        "outputId": "1a2c8735-4f14-477b-d161-0d5cfdd07bb6"
      },
      "source": [
        "# Plot the results\n",
        "import matplotlib.pyplot as plt\n",
        "\n",
        "plt.plot(min_samples_splits, train_results, 'b')\n",
        "plt.plot(min_samples_splits, val_results,'r')\n",
        "plt.show()"
      ],
      "execution_count": null,
      "outputs": [
        {
          "output_type": "display_data",
          "data": {
            "image/png": "[encoded data removed]",
            "text/plain": [
              "<Figure size 432x288 with 1 Axes>"
            ]
          },
          "metadata": {
            "tags": [],
            "needs_background": "light"
          }
        }
      ]
    },
    {
      "cell_type": "code",
      "metadata": {
        "id": "UrZSntmRYtFL",
        "colab": {
          "base_uri": "https://localhost:8080/"
        },
        "outputId": "e9f2cee5-ac5e-4fb9-a578-fd33e3608e2f"
      },
      "source": [
        "# Choose the best minimum split sample based on the plot\n",
        "Best_minSampl = val_results[np.argmax(val_acc)]\n",
        "print(Best_minSampl)\n",
        "# Train decision tree using the full training data and the best minimum split sample\n",
        "# One line of code\n",
        "# One line of code\n",
        "clf = DecisionTreeClassifier(criterion = 'entropy', max_depth=20, random_state=2021, min_samples_split=Best_minSampl)\n",
        "clf.fit(x_train, y_train)\n",
        "\n",
        "# Estimate the prediction of the test data\n",
        "test_pred = clf.predict(test_df)\n",
        "\n",
        "from sklearn.metrics import accuracy_score\n",
        "# Calculate accuracy of test data\n",
        "TestAcc = accuracy_score(test_labels,test_pred)\n",
        "print(\"Testing Accuracy = %.4f%%\" % (TestAcc * 100))\n"
      ],
      "execution_count": null,
      "outputs": [
        {
          "output_type": "stream",
          "text": [
            "0.8378205128205128\n",
            "Testing Accuracy = 80.7544%\n"
          ],
          "name": "stdout"
        }
      ]
    },
    {
      "cell_type": "markdown",
      "metadata": {
        "id": "a_GMi20MO3lr"
      },
      "source": [
        "# 6) Apply the same procedure but using k-NN instead of decision tree\n",
        "\n",
        "For finetuning, find the best value of K to use with this dataset."
      ]
    },
    {
      "cell_type": "code",
      "metadata": {
        "id": "SKZoNasEO9BT",
        "colab": {
          "base_uri": "https://localhost:8080/",
          "height": 840
        },
        "outputId": "70a00d98-6e3a-42d5-e760-e8c133dd58d5"
      },
      "source": [
        "from sklearn.neighbors import KNeighborsClassifier\n",
        "kVals = list(range(1,30,2))\n",
        "accuracies = []\n",
        "\n",
        "# loop over values of k for the k-Nearest Neighbor classifier\n",
        "for k in kVals:\n",
        "  model = KNeighborsClassifier(n_neighbors=k)\n",
        "  model.fit(x_train,y_train)\n",
        "  score = model.score(x_val,y_val)\n",
        "  accuracies.append(score)\n",
        "  train_score = model.score(x_train,y_train)\n",
        "  print(\"Score on training set\", train_score)\n",
        "  print(\"Score on validation set\", score)\n",
        "\n",
        "#plot results\n",
        "plt.scatter(kVals, accuracies)\n",
        "plt.plot(kVals, accuracies)\n",
        "plt.xlabel('k Value')\n",
        "plt.ylabel('Accuracy')\n",
        "plt.show()\n",
        "\n",
        "# Pick the k value with the highest validation accuracy\n",
        "i = np.argmax(accuracies)\n",
        "print(\"\\n\")\n",
        "print(\"Best Validation Accuracy = %.4f%%\" % (accuracies[i]*100))"
      ],
      "execution_count": null,
      "outputs": [
        {
          "output_type": "stream",
          "text": [
            "Score on training set 1.0\n",
            "Score on validation set 0.8064102564102564\n",
            "Score on training set 0.8914238592633315\n",
            "Score on validation set 0.7916666666666666\n",
            "Score on training set 0.8611874656404618\n",
            "Score on validation set 0.7980769230769231\n",
            "Score on training set 0.842495876855415\n",
            "Score on validation set 0.791025641025641\n",
            "Score on training set 0.8342495876855415\n",
            "Score on validation set 0.7916666666666666\n",
            "Score on training set 0.8287520615722924\n",
            "Score on validation set 0.7948717948717948\n",
            "Score on training set 0.8273776800439802\n",
            "Score on validation set 0.8057692307692308\n",
            "Score on training set 0.8213304013194063\n",
            "Score on validation set 0.8006410256410257\n",
            "Score on training set 0.8158328752061572\n",
            "Score on validation set 0.8051282051282052\n",
            "Score on training set 0.8161077515118197\n",
            "Score on validation set 0.8051282051282052\n",
            "Score on training set 0.811434854315558\n",
            "Score on validation set 0.8032051282051282\n",
            "Score on training set 0.8122594832325454\n",
            "Score on validation set 0.8038461538461539\n",
            "Score on training set 0.8086860912589334\n",
            "Score on validation set 0.8025641025641026\n",
            "Score on training set 0.8106102253985706\n",
            "Score on validation set 0.8076923076923077\n",
            "Score on training set 0.8106102253985706\n",
            "Score on validation set 0.8051282051282052\n"
          ],
          "name": "stdout"
        },
        {
          "output_type": "display_data",
          "data": {
            "image/png": "[encoded data removed]",
            "text/plain": [
              "<Figure size 432x288 with 1 Axes>"
            ]
          },
          "metadata": {
            "tags": [],
            "needs_background": "light"
          }
        },
        {
          "output_type": "stream",
          "text": [
            "\n",
            "\n",
            "Best Validation Accuracy = 80.7692%\n"
          ],
          "name": "stdout"
        }
      ]
    },
    {
      "cell_type": "code",
      "metadata": {
        "id": "w1PtA576uw9t",
        "colab": {
          "base_uri": "https://localhost:8080/"
        },
        "outputId": "75f9a377-49f7-432a-d74f-245ee7b4aef4"
      },
      "source": [
        "# Train k-NN using the full training data with the best K that you found\n",
        "model = KNeighborsClassifier(n_neighbors=kVals[i])\n",
        "model.fit(x_train, y_train)\n",
        "\n",
        "# Testing\n",
        "predictions = model.predict(test_df)\n",
        "TestAcc = accuracy_score(test_labels,predictions)\n",
        "print(\"Testing Accuracy = %.4f%%\" % (TestAcc * 100))\n"
      ],
      "execution_count": null,
      "outputs": [
        {
          "output_type": "stream",
          "text": [
            "Testing Accuracy = 80.9084%\n"
          ],
          "name": "stdout"
        }
      ]
    },
    {
      "cell_type": "markdown",
      "metadata": {
        "id": "YBjX29muPFu0"
      },
      "source": [
        "# REPORT\n",
        "\n",
        "Problem: We are aiming to train our machine to predict wine quality by considering some features of wines. There are 5198 rows in train dataset and 1299 rows in test data set. So, test set is approximately %25 of the entire data.\n",
        "\n",
        "We first loaded both train and test datasets to the colab file. We checked train set for any missing values and categorical features. Then we removed the label \"quality\" from both datasets.\n",
        "\n",
        "We split train dataset into two parts: train and validation. Validation set consists of %30 of trainset. When splitting data, we mentioned random_state as parameter in order to get the same data split in different executions.\n",
        "\n",
        "Decision Tree Classifier Results: We got the best accuracy on validation data when min_sample_split variable is 2. Max accuracy rate is 83.7820%. When we build the tree and evalute it on test set, accuracy on test set is\n",
        "80.7544%.\n",
        "\n",
        "k-NN Classifier Results: We got the best accuracy on validation data when k = 27. Best Validation Accuracy = 80.7692% for this k value. We build the model for this k value and evalute it on test set, accuracy on the test set is 80.9084%.\n",
        "\n",
        "Accurracy on test data is very close to each other for these two methods but Decision Tree algorithm is faster than k-NN."
      ]
    }
  ]
}